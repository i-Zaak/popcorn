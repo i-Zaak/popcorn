{
 "cells": [
  {
   "cell_type": "code",
   "execution_count": 1,
   "id": "3f730c65",
   "metadata": {},
   "outputs": [
    {
     "name": "stdout",
     "output_type": "stream",
     "text": [
      "%pylab is deprecated, use %matplotlib inline and import the required libraries.\n",
      "Populating the interactive namespace from numpy and matplotlib\n"
     ]
    }
   ],
   "source": [
    "%pylab inline\n",
    "import numpy as np\n",
    "import scipy\n",
    "import tqdm"
   ]
  },
  {
   "cell_type": "code",
   "execution_count": 2,
   "id": "8a79a383",
   "metadata": {},
   "outputs": [
    {
     "data": {
      "text/plain": [
       "(10240, 10240)"
      ]
     },
     "execution_count": 2,
     "metadata": {},
     "output_type": "execute_result"
    }
   ],
   "source": [
    "def load_npz_to_csr(npz_fname):\n",
    "    npz = np.load(npz_fname)\n",
    "    csr = scipy.sparse.csr_matrix(\n",
    "        (npz['data'], npz['indices'], npz['indptr']),\n",
    "        shape=npz['shape'])\n",
    "    return csr.astype('f')\n",
    "\n",
    "# load the global and local connectivity matrices\n",
    "G = load_npz_to_csr('vert2vert_gdist_mat_32k.npz')\n",
    "L = load_npz_to_csr('vert2vert_lengths_32k_15M.npz')\n",
    "W = load_npz_to_csr('vert2vert_weights_32k_15M.npz')\n",
    "\n",
    "nv = 10*1024\n",
    "G = G[:nv][:,:nv]\n",
    "L = L[:nv][:,:nv]\n",
    "W = W[:nv][:,:nv]\n",
    "\n",
    "assert G.shape == L.shape == W.shape\n",
    "G.shape"
   ]
  },
  {
   "cell_type": "code",
   "execution_count": 3,
   "id": "8a199629",
   "metadata": {},
   "outputs": [
    {
     "data": {
      "text/plain": [
       "(769666,)"
      ]
     },
     "execution_count": 3,
     "metadata": {},
     "output_type": "execute_result"
    }
   ],
   "source": [
    "dt = 0.1\n",
    "r_noise_scale = 0.1\n",
    "nvtx = L.shape[0]\n",
    "num_sims = 1\n",
    "\n",
    "# make lc kernel from gdist\n",
    "K = G.copy()\n",
    "K.data = np.exp(-K.data/5.0).astype('f')\n",
    "\n",
    "# prepare extra info for delays\n",
    "local_velocity = 1.0\n",
    "v2v_velocity = 10.0\n",
    "iL = (L.data / v2v_velocity / dt).astype('i')\n",
    "iL.shape"
   ]
  },
  {
   "cell_type": "code",
   "execution_count": 4,
   "id": "870ff5e4",
   "metadata": {},
   "outputs": [],
   "source": [
    "def numpy_delays(buf,nh,t,idelays,indices,weights,indptr,c):\n",
    "    xij = buf[(nh + t - idelays) % nh, indices]\n",
    "    wxij = xij*weights\n",
    "    wxij = np.r_[wxij, 0.0]\n",
    "    np.add.reduceat(wxij, indptr[:-1], axis=0, out=c)\n",
    "    c[np.argwhere(np.diff(indptr)==0)] = 0\n",
    "    \n",
    "def numpy_delays2(buf,nh,t,idelays,indices,weights,indptr,c):\n",
    "    xij = buf[(nh + t - idelays) & (nh-1), indices]\n",
    "    wxij = xij*weights\n",
    "    wxij = np.r_[wxij, np.zeros((1, num_sims), 'f')]\n",
    "    np.add.reduceat(wxij, indptr[:-1], axis=0, out=c)\n",
    "    c[np.argwhere(np.diff(indptr)==0)] = 0"
   ]
  },
  {
   "cell_type": "code",
   "execution_count": 5,
   "id": "b7d14194",
   "metadata": {},
   "outputs": [],
   "source": [
    "import numba\n",
    "@numba.njit\n",
    "def numba_delays(buf,nh,t,idelays,indices,weights,indptr,c):\n",
    "    for i in range(c.shape[0]):\n",
    "        acc = numba.float32(0.0)\n",
    "        for j in range(indptr[i], indptr[i+1]):\n",
    "            roll_t = (nh + t - idelays[j]) & (nh - 1)\n",
    "            acc += weights[j] * buf[roll_t, indices[j]]\n",
    "        c[i] = acc\n",
    "\n",
    "@numba.njit(inline='always')\n",
    "def _numba_delays_ij(nh,t,idelays,weights,buf,indices,j):\n",
    "    roll_t = (nh + t - idelays[j]) & (nh - 1)\n",
    "    return weights[j] * buf[roll_t, indices[j]]    \n",
    "\n",
    "@numba.njit(fastmath=True, parallel=True, boundscheck=False)\n",
    "def numba_delays2(buf,nh,t,idelays,indices,weights,indptr,c):\n",
    "    for i in numba.prange(c.shape[0]):\n",
    "        acc = numba.float32(0.0)\n",
    "        nj = indptr[i+1] - indptr[i]        \n",
    "        for j in range(nj // 4):\n",
    "            j0 = indptr[i] + 4*j\n",
    "            acc += _numba_delays_ij(nh,t,idelays,weights,buf,indices, j0 + 0)\n",
    "            acc += _numba_delays_ij(nh,t,idelays,weights,buf,indices, j0 + 1)\n",
    "            acc += _numba_delays_ij(nh,t,idelays,weights,buf,indices, j0 + 2)\n",
    "            acc += _numba_delays_ij(nh,t,idelays,weights,buf,indices, j0 + 3)\n",
    "        c[i] = acc"
   ]
  },
  {
   "cell_type": "code",
   "execution_count": 6,
   "id": "521fe933",
   "metadata": {},
   "outputs": [
    {
     "name": "stdout",
     "output_type": "stream",
     "text": [
      "10 mb buf size\n"
     ]
    },
    {
     "data": {
      "text/plain": [
       "(256, 10240)"
      ]
     },
     "execution_count": 6,
     "metadata": {},
     "output_type": "execute_result"
    }
   ],
   "source": [
    "dt = np.float32(dt)\n",
    "nh_r = iL.max() + 1\n",
    "assert nh_r < 256\n",
    "nh_r = 256\n",
    "assert nh_r>0 and not (nh_r&(nh_r-1)), 'nh_r not power of 2'\n",
    "assert iL.min() > 0, 'min delay not greater than zero*dt'\n",
    "\n",
    "# max delay determines buffer size\n",
    "print((nh_r) * nvtx * num_sims * 4 >> 20, 'mb buf size')\n",
    "\n",
    "r, cr = np.zeros((2, nvtx), 'f')\n",
    "# alloc delay buffers\n",
    "rbuf = np.zeros((nh_r, nvtx), 'f')\n",
    "rbuf.shape"
   ]
  },
  {
   "cell_type": "markdown",
   "id": "492b3d22",
   "metadata": {},
   "source": [
    "first step would be to rewrite the sparse delayed op itself for SIMD instructions:"
   ]
  },
  {
   "cell_type": "code",
   "execution_count": 7,
   "id": "b9c48b05",
   "metadata": {},
   "outputs": [
    {
     "name": "stdout",
     "output_type": "stream",
     "text": [
      "Overwriting delays2.ispc\n"
     ]
    }
   ],
   "source": [
    "%%file delays2.ispc\n",
    "task void delays_task(\n",
    "    const uniform int start,\n",
    "    const uniform int chunksize, const uniform int nvtx, const uniform int nh, const uniform int t,\n",
    "    uniform float out[], const uniform float buf[], const uniform float weights[], const uniform int idelays[], const uniform int indices[], const uniform int indptr[] )\n",
    "{\n",
    "    for (uniform int i=start; i<(start+chunksize); i++)\n",
    "    {\n",
    "        varying float acc = 0;\n",
    "        foreach (j = indptr[i] ... indptr[i+1])\n",
    "            acc += weights[j] * buf[((nh+t-idelays[j]) & (nh-1))*nvtx + indices[j]];\n",
    "        out[i] = reduce_add(acc);\n",
    "    }\n",
    "}\n",
    "\n",
    "export void delays(\n",
    "    const uniform int chunksize, const uniform int nvtx, const uniform int nh, const uniform int t,\n",
    "    uniform float out[], const uniform float buf[], const uniform float weights[], const uniform int idelays[], const uniform int indices[], const uniform int indptr[] )\n",
    "{\n",
    "    uniform int chunks = nvtx / chunksize;\n",
    "    for (uniform int start=0; start<chunks; start++)\n",
    "        launch delays_task(start*chunksize, chunksize,\n",
    "                         nvtx,nh,t,out,buf,weights,idelays,indices,indptr);\n",
    "    launch delays_task(chunks*chunksize, nvtx-chunks*chunksize,\n",
    "                     nvtx,nh,t,out,buf,weights,idelays,indices,indptr);\n",
    "    sync;\n",
    "}"
   ]
  },
  {
   "cell_type": "code",
   "execution_count": 8,
   "id": "7ac87715",
   "metadata": {},
   "outputs": [
    {
     "name": "stdout",
     "output_type": "stream",
     "text": [
      "Overwriting delays2.c\n"
     ]
    }
   ],
   "source": [
    "%%file delays2.c\n",
    "\n",
    "#define pi 3.141592653589793f\n",
    "#define Delta 2.0f\n",
    "#define tau 1.0f\n",
    "#define J 15.0f\n",
    "#define I 1.0f\n",
    "#define eta (params[i*L + l])\n",
    "\n",
    "void mpr_dfun(float *dr, float *dV, float r, float V, float cr, float cV, float eta)\n",
    "{\n",
    "    *dr = ( Delta / (pi * tau) + 2*V*r ) / tau;\n",
    "    *dV = ( V*V - pi*pi * tau*tau * r*r + eta + J * tau * r + I + cr + cV ) / tau;\n",
    "}\n",
    "\n",
    "void heun1(float dr, float dv, float r, float v, float *ri, float *vi, float dt) {\n",
    "    *ri = r + dt*dr;\n",
    "    *ri = *ri < 0f ? 0f : *ri;\n",
    "    *vi = v + dt*dv;\n",
    "}\n",
    "\n",
    "void heun2(float dr1, float dV1, float dr2, float dV2, float *r, float *V, float dt) {\n",
    "    *r = r + dt/2*(dr1 + dr2);\n",
    "    *r = *r < 0f ? 0f : *r;\n",
    "    *v = v + dt/2*(dv1 + dv2);\n",
    "}\n",
    "\n",
    "void delays(int nvtx, int nh, int t, float *out, float *buf, float *weights, int *idelays, int *indices, int *indptr)\n",
    "{\n",
    "    int nhm = nh - 1;\n",
    "    \n",
    "    #pragma omp parallel for\n",
    "    for (int i=0; i<nvtx; i++)\n",
    "    {\n",
    "        float acc1 = 0.0f, acc2 = 0.0f;\n",
    "        #pragma omp simd reduction(+:acc1,acc2)\n",
    "        for (int j=indptr[i]; j<indptr[i+1]; j++) {\n",
    "            float *b = buf + indices[j]*nh;\n",
    "            float w = weights[j];\n",
    "            int roll_t = (nh + t - idelays[j]) & nhm;\n",
    "            \n",
    "            acc1 += w * b[(roll_t+0) & nhm];\n",
    "            acc2 += w * b[(roll_t+1) & nhm];\n",
    "        }\n",
    "        \n",
    "    }\n",
    "}"
   ]
  },
  {
   "cell_type": "markdown",
   "id": "c9057510",
   "metadata": {},
   "source": [
    "and compile the ispc & C code"
   ]
  },
  {
   "cell_type": "code",
   "execution_count": 9,
   "id": "58881b34",
   "metadata": {},
   "outputs": [
    {
     "name": "stderr",
     "output_type": "stream",
     "text": [
      "Warning: No --target specified on command-line. Using default system target \n",
      "        \"avx2-i32x8\". \n",
      "delays2.ispc:10:33: Performance Warning: Gather required to load value. \n",
      "            acc += weights[j] * buf[((nh+t-idelays[j]) & (nh-1))*nvtx + indices[j]];\n",
      "                                ^^^^^^^^^^^^^^^^^^^^^^^^^^^^^^^^^^^^^^^^^^^^^^^^^^^\n",
      "\n"
     ]
    }
   ],
   "source": [
    "from ctypes import c_int, c_bool\n",
    "import os\n",
    "import ctypes\n",
    "fvec = np.ctypeslib.ndpointer(dtype=np.float32)\n",
    "ivec = np.ctypeslib.ndpointer(dtype=np.int32)\n",
    "\n",
    "os.system('ispc -g delays2.ispc --pic -O3 -o delays2.ispc.o')\n",
    "os.system('g++ -std=c++11 -fPIC -c tasksys.cpp -o tasksys.o')\n",
    "os.system('g++ -shared tasksys.o delays2.ispc.o -o delays2.ispc.so -lpthread')\n",
    "lib = ctypes.CDLL('./delays2.ispc.so')\n",
    "lib.delays.restype = None\n",
    "lib.delays.argtypes = (\n",
    "    c_int, c_int, c_int, c_int, \n",
    "    fvec, fvec, fvec, ivec, ivec, ivec\n",
    ")\n",
    "\n",
    "os.system('gcc -fopenmp-simd -fopenmp -O3 -mavx2 -ffast-math -march=native -c delays2.c -o delays2.c.o')\n",
    "os.system('gcc -shared -fopenmp delays2.c.o -o delays2.c.so')\n",
    "lib2 = ctypes.CDLL('./delays2.c.so')\n",
    "lib2.delays.restype = None\n",
    "lib2.delays.argtypes = (\n",
    "    c_int, c_int, c_int, \n",
    "    fvec, fvec, fvec, ivec, ivec, ivec\n",
    ")"
   ]
  },
  {
   "cell_type": "code",
   "execution_count": 15,
   "id": "28e9a5f8",
   "metadata": {},
   "outputs": [
    {
     "name": "stdout",
     "output_type": "stream",
     "text": [
      "-rwxrwxr-x 1 duke duke 16K Dec 29 11:23 delays2.c.so\r\n",
      "-rwxrwxr-x 1 duke duke 94K Dec 29 11:23 delays2.ispc.so\r\n"
     ]
    }
   ],
   "source": [
    "!ls -lh *.so"
   ]
  },
  {
   "cell_type": "markdown",
   "id": "47a347be",
   "metadata": {},
   "source": [
    "also bring in the opencl version"
   ]
  },
  {
   "cell_type": "code",
   "execution_count": 10,
   "id": "bba341d9",
   "metadata": {},
   "outputs": [
    {
     "name": "stdout",
     "output_type": "stream",
     "text": [
      "<pyopencl.Context at 0x30a0690 on <pyopencl.Device 'cpu-haswell-Intel(R) Core(TM) i7-10610U CPU @ 1.80GHz' on 'Portable Computing Language' at 0x3028c10>>\n"
     ]
    }
   ],
   "source": [
    "from clutils import Util as CLUtil\n",
    "cl = CLUtil()\n",
    "cl.load_kernel('./delays.opencl.c', 'delays_batched', N=32, B=1)\n",
    "cl.move_csr(W=W)\n",
    "cl.move(iL=iL)\n",
    "cl.init_vectors('cr', (nvtx, num_sims))\n",
    "cl.init_vectors('rbuf', (nh_r, nvtx, num_sims))"
   ]
  },
  {
   "cell_type": "markdown",
   "id": "45d15127",
   "metadata": {},
   "source": [
    "we can of course check it matches the numpy implementation"
   ]
  },
  {
   "cell_type": "code",
   "execution_count": 11,
   "id": "ba891b3c",
   "metadata": {},
   "outputs": [],
   "source": [
    "rbuf[:] = np.random.randn(*rbuf.shape)\n",
    "t = 120\n",
    "cr[:] = 0.0\n",
    "numpy_delays(rbuf, nh_r, t, iL, W.indices, W.data, W.indptr, cr)\n",
    "\n",
    "# ispc\n",
    "cr2 = np.zeros_like(cr)\n",
    "lib.delays(512, nv, nh_r, t, cr2, rbuf, W.data, iL, W.indices, W.indptr)\n",
    "\n",
    "# cl\n",
    "cl.move(rbuf=rbuf)\n",
    "cl.delays_batched(\n",
    "    cl.queue, (nvtx, 1), (1, 1),\n",
    "    np.int32(nvtx), np.int32(nh_r), np.int32(t), \n",
    "    cl.cr.data, cl.rbuf.data, cl.W_data.data, cl.iL.data, cl.W_indices.data, cl.W_indptr.data).wait()\n",
    "\n",
    "# numba\n",
    "cr3 = np.zeros_like(cr2)\n",
    "numba_delays2(rbuf, nh_r, t, iL, W.indices, W.data, W.indptr, cr3)\n",
    "\n",
    "# c+omp\n",
    "rbuf2 = rbuf.T.copy()\n",
    "cr4 = np.zeros_like(cr2)\n",
    "lib2.delays(nv, nh_r, t, cr4, rbuf2, W.data, iL, W.indices, W.indptr)"
   ]
  },
  {
   "cell_type": "code",
   "execution_count": 12,
   "id": "e35a2bee",
   "metadata": {},
   "outputs": [
    {
     "data": {
      "image/png": "[encoded data removed]",
      "text/plain": [
       "<Figure size 600x300 with 4 Axes>"
      ]
     },
     "metadata": {},
     "output_type": "display_data"
    }
   ],
   "source": [
    "figure(figsize=(6, 3));\n",
    "subplot(411); semilogy(np.abs(cr - cr2), ','); grid(1); ylabel('err ispc')\n",
    "subplot(412); semilogy(np.abs(cr - cl.cr.get()[:,0]), ','); grid(1); ylabel('err cl');\n",
    "subplot(413); semilogy(np.abs(cr - cr3), ','); grid(1); ylabel('err numba');\n",
    "subplot(414); semilogy(np.abs(cr - cr4), ','); grid(1); ylabel('err c+omp');"
   ]
  },
  {
   "cell_type": "code",
   "execution_count": 13,
   "id": "0254b889",
   "metadata": {},
   "outputs": [
    {
     "name": "stdout",
     "output_type": "stream",
     "text": [
      "575 µs ± 25.5 µs per loop (mean ± std. dev. of 7 runs, 1,000 loops each)\n",
      "979 µs ± 46.6 µs per loop (mean ± std. dev. of 7 runs, 1,000 loops each)\n"
     ]
    }
   ],
   "source": [
    "def foo(n):\n",
    "    cl.delays_batched(\n",
    "        cl.queue, (nvtx, 1), (n, 1),\n",
    "        np.int32(nvtx), np.int32(nh_r), np.int32(t), \n",
    "        cl.cr.data, cl.rbuf.data, cl.W_data.data, cl.iL.data, cl.W_indices.data, cl.W_indptr.data\n",
    "    ).wait()\n",
    "\n",
    "%timeit foo(32)\n",
    "# %timeit lib.delays(512, nv, nh_r, t, cr2, rbuf, W.data, iL, W.indices, W.indptr)\n",
    "# %timeit numba_delays2(rbuf, nh_r, t, iL, W.indices, W.data, W.indptr, cr3)\n",
    "%timeit lib2.delays(nv, nh_r, t, cr4, rbuf2, W.data, iL, W.indices, W.indptr)"
   ]
  },
  {
   "cell_type": "markdown",
   "id": "7444bb55",
   "metadata": {},
   "source": [
    "then embed it in a simulation"
   ]
  },
  {
   "cell_type": "code",
   "execution_count": 14,
   "id": "0866f311",
   "metadata": {},
   "outputs": [
    {
     "ename": "ValueError",
     "evalue": "could not broadcast input array from shape (10240,) into shape (10240,1)",
     "output_type": "error",
     "traceback": [
      "\u001b[0;31m---------------------------------------------------------------------------\u001b[0m",
      "\u001b[0;31mValueError\u001b[0m                                Traceback (most recent call last)",
      "Cell \u001b[0;32mIn[14], line 15\u001b[0m\n\u001b[1;32m     13\u001b[0m V \u001b[38;5;241m=\u001b[39m np\u001b[38;5;241m.\u001b[39mzeros_like(rbuf[t]) \u001b[38;5;241m-\u001b[39m \u001b[38;5;241m2.0\u001b[39m\n\u001b[1;32m     14\u001b[0m drV \u001b[38;5;241m=\u001b[39m np\u001b[38;5;241m.\u001b[39mzeros((\u001b[38;5;241m2\u001b[39m,nv,num_sims), \u001b[38;5;124m'\u001b[39m\u001b[38;5;124mf\u001b[39m\u001b[38;5;124m'\u001b[39m)\n\u001b[0;32m---> 15\u001b[0m \u001b[43mdfun\u001b[49m\u001b[43m(\u001b[49m\u001b[43mt\u001b[49m\u001b[43m,\u001b[49m\u001b[43m \u001b[49m\u001b[43mdrV\u001b[49m\u001b[43m,\u001b[49m\u001b[43m \u001b[49m\u001b[43mrbuf\u001b[49m\u001b[43m,\u001b[49m\u001b[43m \u001b[49m\u001b[43mnp\u001b[49m\u001b[38;5;241;43m.\u001b[39;49m\u001b[43marray\u001b[49m\u001b[43m(\u001b[49m\u001b[43m[\u001b[49m\u001b[43mrbuf\u001b[49m\u001b[43m[\u001b[49m\u001b[43mt\u001b[49m\u001b[43m]\u001b[49m\u001b[43m,\u001b[49m\u001b[43m \u001b[49m\u001b[43mV\u001b[49m\u001b[43m]\u001b[49m\u001b[43m)\u001b[49m\u001b[43m,\u001b[49m\u001b[43m \u001b[49m\u001b[43mcr\u001b[49m\u001b[43m,\u001b[49m\u001b[43m \u001b[49m\u001b[38;5;241;43m1e-3\u001b[39;49m\u001b[43m)\u001b[49m\u001b[38;5;241m.\u001b[39mshape\n",
      "Cell \u001b[0;32mIn[14], line 9\u001b[0m, in \u001b[0;36mdfun\u001b[0;34m(t, drV, rbuf, rV, cr, k)\u001b[0m\n\u001b[1;32m      7\u001b[0m eta \u001b[38;5;241m=\u001b[39m \u001b[38;5;241m-\u001b[39m\u001b[38;5;241m5.0\u001b[39m\n\u001b[1;32m      8\u001b[0m r, V \u001b[38;5;241m=\u001b[39m rV\n\u001b[0;32m----> 9\u001b[0m \u001b[43mdrV\u001b[49m\u001b[43m[\u001b[49m\u001b[38;5;241;43m0\u001b[39;49m\u001b[43m]\u001b[49m \u001b[38;5;241m=\u001b[39m Delta \u001b[38;5;241m/\u001b[39m (pi \u001b[38;5;241m*\u001b[39m tau) \u001b[38;5;241m+\u001b[39m \u001b[38;5;241m2\u001b[39m\u001b[38;5;241m*\u001b[39mV\u001b[38;5;241m*\u001b[39mr\n\u001b[1;32m     10\u001b[0m drV[\u001b[38;5;241m1\u001b[39m] \u001b[38;5;241m=\u001b[39m V\u001b[38;5;241m*\u001b[39mV \u001b[38;5;241m-\u001b[39m pi\u001b[38;5;241m*\u001b[39mpi \u001b[38;5;241m*\u001b[39m tau\u001b[38;5;241m*\u001b[39mtau \u001b[38;5;241m*\u001b[39m r\u001b[38;5;241m*\u001b[39mr \u001b[38;5;241m+\u001b[39m eta \u001b[38;5;241m+\u001b[39m J \u001b[38;5;241m*\u001b[39m tau \u001b[38;5;241m*\u001b[39m r \u001b[38;5;241m+\u001b[39m I \u001b[38;5;241m+\u001b[39m k\u001b[38;5;241m*\u001b[39mcr\n\u001b[1;32m     11\u001b[0m \u001b[38;5;28;01mreturn\u001b[39;00m drV\n",
      "\u001b[0;31mValueError\u001b[0m: could not broadcast input array from shape (10240,) into shape (10240,1)"
     ]
    }
   ],
   "source": [
    "def dfun(t, drV, rbuf, rV, cr, k):\n",
    "    lib.delays(512, nv, nh_r, t, cr, rbuf, W.data, iL, W.indices, W.indptr)\n",
    "    Delta = 2.0\n",
    "    tau = 1.0\n",
    "    J = 15.0\n",
    "    I = 1.0\n",
    "    eta = -5.0\n",
    "    r, V = rV\n",
    "    drV[0] = Delta / (pi * tau) + 2*V*r\n",
    "    drV[1] = V*V - pi*pi * tau*tau * r*r + eta + J * tau * r + I + k*cr\n",
    "    return drV\n",
    "\n",
    "V = np.zeros_like(rbuf[t]) - 2.0\n",
    "drV = np.zeros((2,nv,num_sims), 'f')\n",
    "dfun(t, drV, rbuf, np.array([rbuf[t], V]), cr, 1e-3).shape"
   ]
  },
  {
   "cell_type": "code",
   "execution_count": null,
   "id": "6b2c5e12",
   "metadata": {},
   "outputs": [],
   "source": [
    "def rgt0(r):\n",
    "    r[r<0] = 0\n",
    "\n",
    "def step(t, d1, d2, rbuf, rV, cr, dt, *args):\n",
    "    dfun(t, d1, rbuf, rV, cr, *args)\n",
    "    rVi = rV + dt*d1\n",
    "    rgt0(rVi[0])\n",
    "    dfun(t, d2, rbuf, rVi, cr, *args)\n",
    "    rV += dt/2*(d1 + d2)\n",
    "    rgt0(rV[0])\n",
    "    rbuf[t%nh_r] = rV[0]"
   ]
  },
  {
   "cell_type": "code",
   "execution_count": null,
   "id": "4f2e86b4",
   "metadata": {},
   "outputs": [],
   "source": [
    "d1, d2 = np.zeros((2, 2, nv, num_sims), 'f')\n",
    "dt = 0.1\n",
    "rV = np.array([rbuf[t], V])\n",
    "step(3, d1, d2, rbuf, rV, cr, dt, 1e-4)"
   ]
  },
  {
   "cell_type": "code",
   "execution_count": null,
   "id": "b3643106",
   "metadata": {},
   "outputs": [],
   "source": [
    "rs = []\n",
    "rbuf = np.random.randn(nh_r, nv, num_sims).astype('f')/100 + 0.1\n",
    "rV = np.zeros((2, nv, num_sims), 'f')\n",
    "rV[0] = np.random.randn(nv, num_sims)/100 + 0.1\n",
    "rV[1] -= 2.0\n",
    "k = 1e-3\n",
    "for i in tqdm.trange(256):\n",
    "    step(i, d1, d2, rbuf, rV, cr, dt, k)\n",
    "    rs.append(rV[0].copy())\n",
    "rs = np.array(rs)[:,:,0]\n",
    "\n",
    "figure(figsize=(6,2)); plot(rs[:, :10]); grid(1);"
   ]
  },
  {
   "cell_type": "markdown",
   "id": "5d11fb59",
   "metadata": {},
   "source": [
    "this stil has some overhead from numpy operations.  we can fold those into the kernel in a single loop over nodes for the Heun step because of the delays. \n",
    "\n",
    "we also create a custom struct to hold all the simulation configuration since the list of arguments to the kernels becomes error prone,"
   ]
  },
  {
   "cell_type": "code",
   "execution_count": null,
   "id": "0e0f8fd9",
   "metadata": {},
   "outputs": [],
   "source": [
    "%%file delays3.ispc\n",
    "\n",
    "struct sim {\n",
    "    const int chunksize;\n",
    "    const int nvtx;\n",
    "    const int nh;\n",
    "    int t;\n",
    "    \n",
    "    float *buf;\n",
    "    float *V;\n",
    "    const float *weights;\n",
    "    const int *idelays;\n",
    "    const int *indices;\n",
    "    const int *indptr;\n",
    "    \n",
    "    const float dt;\n",
    "    const float Delta;\n",
    "    const float pi;\n",
    "    const float tau;\n",
    "    const float J;\n",
    "    const float eta;\n",
    "    const float I;\n",
    "    const float k;\n",
    "};\n",
    "\n",
    "\n",
    "float get_aff_ij(const uniform struct sim &s, const uniform int t, const varying int j) {\n",
    "    const varying int dij = (s.nh + t - s.idelays[j]) & (s.nh-1);\n",
    "    return s.weights[j] * s.buf[dij*s.nvtx + s.indices[j]];\n",
    "}\n",
    "\n",
    "task void delays_task(const uniform int start, const uniform int chunksize,\n",
    "                      const uniform struct sim &s)\n",
    "{\n",
    "    // loop over nodes\n",
    "    for (uniform int i=start; i<(start + chunksize); i++)\n",
    "    {\n",
    "        // SIMD the sparse coupling terms\n",
    "        // we can issue both at once due to delays\n",
    "        varying float acc1 = 0;\n",
    "        varying float acc2 = 0;\n",
    "        foreach (j = s.indptr[i] ... s.indptr[i+1]) {\n",
    "            acc1 += get_aff_ij(s, s.t, j);\n",
    "            acc2 += get_aff_ij(s, s.t+1, j);\n",
    "        }\n",
    "        uniform float cr1 = reduce_add(acc1);\n",
    "        uniform float cr2 = reduce_add(acc2);\n",
    "        \n",
    "        // rest is not SIMD but hardly matters for performance\n",
    "        uniform float r = s.buf[((s.t) & (s.nh - 1))*s.nvtx + i];\n",
    "        uniform float V = s.V[i];\n",
    "        \n",
    "        // Heun predictor\n",
    "        uniform float dr1 = s.Delta / (s.pi * s.tau) + 2*V*r;\n",
    "        uniform float dV1 = V*V - s.pi*s.pi * s.tau*s.tau * r*r + s.eta + s.J * s.tau * r + s.I + s.k*cr1;\n",
    "        uniform float ri = r + s.dt*dr1;\n",
    "        ri = ri>0 ? ri : 0;\n",
    "        uniform float Vi = V + s.dt*dV1;\n",
    "        \n",
    "        // Heun corrector\n",
    "        uniform float dr2 = s.Delta / (s.pi * s.tau) + 2*Vi*ri;\n",
    "        uniform float dV2 = Vi*Vi - s.pi*s.pi * s.tau*s.tau * ri*ri + s.eta + s.J * s.tau * ri + s.I + s.k*cr2;\n",
    "        uniform float nr = r + s.dt*0.5*(dr1 + dr2);\n",
    "        uniform float nV = V + s.dt*0.5*(dV1 + dV2);\n",
    "        nr = nr>0 ? nr : 0;\n",
    "        \n",
    "        // update buffer\n",
    "        s.buf[((s.t + 1) & (s.nh - 1))*s.nvtx + i] = nr;\n",
    "        s.V[i] = nV;\n",
    "    }\n",
    "}\n",
    "\n",
    "// this function is called by Python and distributes vertices over CPUs\n",
    "export void delays(uniform struct sim &s)\n",
    "{\n",
    "    uniform int chunks = s.nvtx / s.chunksize;\n",
    "    for (uniform int start=0; start<chunks; start++)\n",
    "        launch delays_task(start*s.chunksize, s.chunksize, s);\n",
    "    launch delays_task(chunks*s.chunksize, s.nvtx-chunks*s.chunksize, s);\n",
    "    sync;\n",
    "}"
   ]
  },
  {
   "cell_type": "code",
   "execution_count": null,
   "id": "dd1167ba",
   "metadata": {},
   "outputs": [],
   "source": [
    "import os, ctypes as ct, numpy as np, hashlib\n",
    "\n",
    "fvec = np.ctypeslib.ndpointer(dtype=np.float32)\n",
    "ivec = np.ctypeslib.ndpointer(dtype=np.int32)\n",
    "\n",
    "os.system('ispc -g delays3.ispc --pic -O3 -o delays3.ispc.o')\n",
    "\n",
    "with open('delays3.ispc', 'rb') as fd:\n",
    "    cc = hashlib.md5(fd.read()).hexdigest()[-4:]\n",
    "os.system(f'g++ -shared tasksys.o delays3.ispc.o -o delays{cc}.ispc.so -lpthread')\n",
    "lib2 = ct.CDLL(f'./delays{cc}.ispc.so')\n",
    "\n",
    "# this is the equivalent of the struct in the C code above\n",
    "class Sim(ct.Structure):\n",
    "    _fields_ = [\n",
    "        ('chunksize', ct.c_int), # const int \n",
    "        ('nvtx', ct.c_int), # const int \n",
    "        ('nh', ct.c_int), # const int \n",
    "        ('t', ct.c_int), # const int \n",
    "        ('buf', fvec), # float *\n",
    "        ('V', fvec), # float *\n",
    "        ('weights', fvec), # const float *\n",
    "        ('idelays', ivec), # const int *\n",
    "        ('indices', ivec), # const int *\n",
    "        ('indptr', ivec), # const int *\n",
    "        ('dt', ct.c_float), # const float \n",
    "        ('Delta', ct.c_float), # const float \n",
    "        ('pi', ct.c_float), # const float \n",
    "        ('tau', ct.c_float), # const float \n",
    "        ('J', ct.c_float), # const float \n",
    "        ('eta', ct.c_float), # const float \n",
    "        ('I', ct.c_float), # const float \n",
    "        ('k', ct.c_float), # const float \n",
    "    ]"
   ]
  },
  {
   "cell_type": "code",
   "execution_count": null,
   "id": "3ff9876f",
   "metadata": {},
   "outputs": [],
   "source": [
    "s = Sim()\n",
    "s.chunksize = 64\n",
    "s.nvtx = nvtx\n",
    "s.nh = nh_r\n",
    "s.t = 12  # dummy value, will be set in loop\n",
    "s.buf = rbuf.ctypes.data\n",
    "s.V = V.ctypes.data\n",
    "s.weights = W.data.ctypes.data\n",
    "s.idelays = iL.ctypes.data\n",
    "s.indices = W.indices.ctypes.data\n",
    "s.indptr = W.indptr.ctypes.data\n",
    "s.dt = dt\n",
    "s.Delta = 2.0\n",
    "s.pi = np.pi\n",
    "s.tau = 1.0\n",
    "s.J = 15.0\n",
    "s.eta = -5.0\n",
    "s.I = 1.0\n",
    "s.k = 1e-3"
   ]
  },
  {
   "cell_type": "code",
   "execution_count": null,
   "id": "071fdd39",
   "metadata": {},
   "outputs": [],
   "source": [
    "rs2 = []\n",
    "np.random.seed(42)\n",
    "rbuf = np.random.randn(nh_r, nv).astype('f')/100 + 0.1\n",
    "rbuf[rbuf<0] = 0\n",
    "V = np.random.randn(nv).astype('f')/100 - 2.0\n",
    "\n",
    "s.buf = rbuf.ctypes.data\n",
    "s.V = V.ctypes.data\n",
    "s.k = 0.003\n",
    "s.dt = 0.1\n",
    "for i in tqdm.trange(2048):\n",
    "    s.t = i\n",
    "    lib2.delays(ct.byref(s))\n",
    "    rs2.append( rbuf[(i+1)&(s.nh-1)].copy() )\n",
    "rs2 = np.array(rs2)\n",
    "\n",
    "figure(figsize=(6, 2)); plot(rs2[:, :10] + np.r_[:10]*0.01); ylim([0, 2]); grid(1)"
   ]
  },
  {
   "cell_type": "markdown",
   "id": "c7f9b3b1",
   "metadata": {},
   "source": [
    "This is only about 2x faster, after folding the neural mass equations and Heun step into the C code.  It's also significantly more complicated to write.\n",
    "\n",
    "A few more experiments to consider\n",
    "\n",
    "- reorder the buffer?\n",
    "- run multiple simulations at once"
   ]
  },
  {
   "cell_type": "code",
   "execution_count": null,
   "id": "067c33c2",
   "metadata": {},
   "outputs": [],
   "source": [
    "\n",
    "\n",
    "\n",
    "\n",
    "\n",
    "\n",
    "\n",
    "\n",
    "\n",
    "\n",
    "\n",
    "\n",
    "\n",
    "\n",
    "\n",
    "\n",
    "\n",
    "\n",
    "\n",
    "\n",
    "\n",
    "\n",
    "\n",
    "\n",
    "\n",
    "\n",
    "\n",
    "\n",
    "\n",
    "\n"
   ]
  },
  {
   "cell_type": "code",
   "execution_count": null,
   "id": "528ae0d0",
   "metadata": {},
   "outputs": [],
   "source": []
  }
 ],
 "metadata": {
  "kernelspec": {
   "display_name": "Python 3 (ipykernel)",
   "language": "python",
   "name": "python3"
  },
  "language_info": {
   "codemirror_mode": {
    "name": "ipython",
    "version": 3
   },
   "file_extension": ".py",
   "mimetype": "text/x-python",
   "name": "python",
   "nbconvert_exporter": "python",
   "pygments_lexer": "ipython3",
   "version": "3.11.6"
  }
 },
 "nbformat": 4,
 "nbformat_minor": 5
}
