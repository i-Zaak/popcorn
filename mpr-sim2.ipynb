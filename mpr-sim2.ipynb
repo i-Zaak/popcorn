{
 "cells": [
  {
   "cell_type": "code",
   "execution_count": 2,
   "id": "3f730c65",
   "metadata": {},
   "outputs": [
    {
     "name": "stdout",
     "output_type": "stream",
     "text": [
      "%pylab is deprecated, use %matplotlib inline and import the required libraries.\n",
      "Populating the interactive namespace from numpy and matplotlib\n"
     ]
    }
   ],
   "source": [
    "%pylab inline\n",
    "import numpy as np\n",
    "import scipy\n",
    "import tqdm"
   ]
  },
  {
   "cell_type": "code",
   "execution_count": 3,
   "id": "8a79a383",
   "metadata": {},
   "outputs": [
    {
     "data": {
      "text/plain": [
       "(10240, 10240)"
      ]
     },
     "execution_count": 3,
     "metadata": {},
     "output_type": "execute_result"
    }
   ],
   "source": [
    "def load_npz_to_csr(npz_fname):\n",
    "    npz = np.load(npz_fname)\n",
    "    csr = scipy.sparse.csr_matrix(\n",
    "        (npz['data'], npz['indices'], npz['indptr']),\n",
    "        shape=npz['shape'])\n",
    "    return csr.astype('f')\n",
    "\n",
    "# load the global and local connectivity matrices\n",
    "G = load_npz_to_csr('vert2vert_gdist_mat_32k.npz')\n",
    "L = load_npz_to_csr('vert2vert_lengths_32k_15M.npz')\n",
    "W = load_npz_to_csr('vert2vert_weights_32k_15M.npz')\n",
    "\n",
    "nv = 10*1024\n",
    "G = G[:nv][:,:nv]\n",
    "L = L[:nv][:,:nv]\n",
    "W = W[:nv][:,:nv]\n",
    "\n",
    "assert G.shape == L.shape == W.shape\n",
    "G.shape"
   ]
  },
  {
   "cell_type": "code",
   "execution_count": 4,
   "id": "8a199629",
   "metadata": {},
   "outputs": [
    {
     "data": {
      "text/plain": [
       "(769666,)"
      ]
     },
     "execution_count": 4,
     "metadata": {},
     "output_type": "execute_result"
    }
   ],
   "source": [
    "dt = 0.1\n",
    "r_noise_scale = 0.1\n",
    "nvtx = L.shape[0]\n",
    "num_sims = 1\n",
    "\n",
    "# make lc kernel from gdist\n",
    "K = G.copy()\n",
    "K.data = np.exp(-K.data/5.0).astype('f')\n",
    "\n",
    "# prepare extra info for delays\n",
    "local_velocity = 1.0\n",
    "v2v_velocity = 10.0\n",
    "iL = (L.data / v2v_velocity / dt).astype('i')\n",
    "iL.shape"
   ]
  },
  {
   "cell_type": "code",
   "execution_count": 5,
   "id": "870ff5e4",
   "metadata": {},
   "outputs": [],
   "source": [
    "def numpy_delays(buf,nh,t,idelays,indices,weights,indptr,c):\n",
    "    xij = buf[(nh + t - idelays) % nh, indices]\n",
    "    wxij = xij*weights.reshape(-1, 1)\n",
    "    wxij = np.r_[wxij, np.zeros((1, num_sims), 'f')]\n",
    "    np.add.reduceat(wxij, indptr[:-1], axis=0, out=c)\n",
    "    c[np.argwhere(np.diff(indptr)==0)] = 0\n",
    "    \n",
    "def numpy_delays2(buf,nh,t,idelays,indices,weights,indptr,c):\n",
    "    xij = buf[(nh + t - idelays) & (nh-1), indices]\n",
    "    wxij = xij*weights.reshape(-1, 1)\n",
    "    wxij = np.r_[wxij, np.zeros((1, num_sims), 'f')]\n",
    "    np.add.reduceat(wxij, indptr[:-1], axis=0, out=c)\n",
    "    c[np.argwhere(np.diff(indptr)==0)] = 0"
   ]
  },
  {
   "cell_type": "code",
   "execution_count": 8,
   "id": "521fe933",
   "metadata": {},
   "outputs": [
    {
     "name": "stdout",
     "output_type": "stream",
     "text": [
      "10 mb buf size\n"
     ]
    },
    {
     "data": {
      "text/plain": [
       "(256, 10240, 1)"
      ]
     },
     "execution_count": 8,
     "metadata": {},
     "output_type": "execute_result"
    }
   ],
   "source": [
    "dt = np.float32(dt)\n",
    "nh_r = iL.max() + 1\n",
    "assert nh_r < 256\n",
    "nh_r = 256\n",
    "assert nh_r>0 and not (nh_r&(nh_r-1)), 'nh_r not power of 2'\n",
    "assert iL.min() > 0, 'min delay not greater than zero*dt'\n",
    "\n",
    "# max delay determines buffer size\n",
    "print((nh_r) * nvtx * num_sims * 4 >> 20, 'mb buf size')\n",
    "\n",
    "r, cr = np.zeros((2, nvtx, num_sims), 'f')\n",
    "# alloc delay buffers\n",
    "rbuf = np.zeros((nh_r, nvtx, num_sims), 'f')\n",
    "rbuf.shape"
   ]
  },
  {
   "cell_type": "code",
   "execution_count": 9,
   "id": "f4fa715e",
   "metadata": {},
   "outputs": [
    {
     "name": "stdout",
     "output_type": "stream",
     "text": [
      "8.01 ms ± 304 µs per loop (mean ± std. dev. of 7 runs, 100 loops each)\n",
      "5.97 ms ± 428 µs per loop (mean ± std. dev. of 7 runs, 100 loops each)\n"
     ]
    }
   ],
   "source": [
    "%timeit numpy_delays(rbuf, nh_r, 12, iL, W.indices, W.data, W.indptr, cr)\n",
    "%timeit numpy_delays2(rbuf, nh_r, 12, iL, W.indices, W.data, W.indptr, cr)"
   ]
  },
  {
   "cell_type": "markdown",
   "id": "492b3d22",
   "metadata": {},
   "source": [
    "first step would be to rewrite the sparse delayed op itself for SIMD instructions:"
   ]
  },
  {
   "cell_type": "code",
   "execution_count": 12,
   "id": "b9c48b05",
   "metadata": {},
   "outputs": [
    {
     "name": "stdout",
     "output_type": "stream",
     "text": [
      "Overwriting delays2.ispc\n"
     ]
    }
   ],
   "source": [
    "%%file delays2.ispc\n",
    "task void delays_task(\n",
    "    const uniform int start,\n",
    "    const uniform int chunksize, const uniform int nvtx, const uniform int nh, const uniform int t,\n",
    "    uniform float out[], const uniform float buf[], const uniform float weights[], const uniform int idelays[], const uniform int indices[], const uniform int indptr[] )\n",
    "{\n",
    "    for (uniform int i=start; i<(start+chunksize); i++)\n",
    "    {\n",
    "        varying float acc = 0;\n",
    "        foreach (j = indptr[i] ... indptr[i+1])\n",
    "            acc += weights[j] * buf[((nh+t-idelays[j]) & (nh-1))*nvtx + indices[j]];\n",
    "        out[i] = reduce_add(acc);\n",
    "    }\n",
    "}\n",
    "\n",
    "export void delays(\n",
    "    const uniform int chunksize, const uniform int nvtx, const uniform int nh, const uniform int t,\n",
    "    uniform float out[], const uniform float buf[], const uniform float weights[], const uniform int idelays[], const uniform int indices[], const uniform int indptr[] )\n",
    "{\n",
    "    uniform int chunks = nvtx / chunksize;\n",
    "    for (uniform int start=0; start<chunks; start++)\n",
    "        launch delays_task(start*chunksize, chunksize,\n",
    "                         nvtx,nh,t,out,buf,weights,idelays,indices,indptr);\n",
    "    launch delays_task(chunks*chunksize, nvtx-chunks*chunksize,\n",
    "                     nvtx,nh,t,out,buf,weights,idelays,indices,indptr);\n",
    "    sync;\n",
    "}"
   ]
  },
  {
   "cell_type": "code",
   "execution_count": 13,
   "id": "58881b34",
   "metadata": {},
   "outputs": [
    {
     "name": "stderr",
     "output_type": "stream",
     "text": [
      "Warning: No --target specified on command-line. Using default system target \n",
      "        \"avx2-i32x8\". \n",
      "delays2.ispc:10:33: Performance Warning: Gather required to load value. \n",
      "            acc += weights[j] * buf[((nh+t-idelays[j]) & (nh-1))*nvtx + indices[j]];\n",
      "                                ^^^^^^^^^^^^^^^^^^^^^^^^^^^^^^^^^^^^^^^^^^^^^^^^^^^\n",
      "\n"
     ]
    }
   ],
   "source": [
    "from ctypes import c_int, c_bool\n",
    "import os\n",
    "import ctypes\n",
    "fvec = np.ctypeslib.ndpointer(dtype=np.float32)\n",
    "ivec = np.ctypeslib.ndpointer(dtype=np.int32)\n",
    "\n",
    "os.system('ispc -g delays2.ispc --pic -O3 -o delays2.ispc.o')\n",
    "os.system('g++ -std=c++11 -fPIC -c tasksys.cpp -o tasksys.o')\n",
    "os.system('g++ -shared tasksys.o delays2.ispc.o -o delays2.ispc.so -lpthread')\n",
    "lib = ctypes.CDLL('./delays2.ispc.so')\n",
    "lib.delays.restype = None\n",
    "lib.delays.argtypes = (\n",
    "    c_int, c_int, c_int, c_int, \n",
    "    fvec, fvec, fvec, ivec, ivec, ivec\n",
    ")"
   ]
  },
  {
   "cell_type": "markdown",
   "id": "e44cd581",
   "metadata": {},
   "source": [
    "this is considerably faster (20x on my i5 laptop)"
   ]
  },
  {
   "cell_type": "code",
   "execution_count": 14,
   "id": "5947f5d1",
   "metadata": {},
   "outputs": [
    {
     "name": "stdout",
     "output_type": "stream",
     "text": [
      "333 µs ± 18.5 µs per loop (mean ± std. dev. of 7 runs, 1,000 loops each)\n"
     ]
    }
   ],
   "source": [
    "%timeit lib.delays(512, nv, nh_r, 12, cr, rbuf, W.data, iL, W.indices, W.indptr)"
   ]
  },
  {
   "cell_type": "markdown",
   "id": "45d15127",
   "metadata": {},
   "source": [
    "we can of course check it matches the numpy implementation"
   ]
  },
  {
   "cell_type": "code",
   "execution_count": 15,
   "id": "e35a2bee",
   "metadata": {},
   "outputs": [
    {
     "data": {
      "image/png": "[encoded data removed]",
      "text/plain": [
       "<Figure size 600x100 with 1 Axes>"
      ]
     },
     "metadata": {},
     "output_type": "display_data"
    }
   ],
   "source": [
    "rbuf[:] = np.random.randn(*rbuf.shape)\n",
    "t = 120\n",
    "cr[:] = 0.0\n",
    "numpy_delays(rbuf, nh_r, t, iL, W.indices, W.data, W.indptr, cr)\n",
    "\n",
    "cr2 = np.zeros_like(cr)\n",
    "lib.delays(512, nv, nh_r, t, cr2, rbuf, W.data, iL, W.indices, W.indptr)\n",
    "\n",
    "figure(figsize=(6, 1)); semilogy(cr - cr2, ','); grid(1)"
   ]
  },
  {
   "cell_type": "markdown",
   "id": "7444bb55",
   "metadata": {},
   "source": [
    "then embed it in a simulation"
   ]
  },
  {
   "cell_type": "code",
   "execution_count": 16,
   "id": "0866f311",
   "metadata": {},
   "outputs": [
    {
     "data": {
      "text/plain": [
       "(2, 10240, 1)"
      ]
     },
     "execution_count": 16,
     "metadata": {},
     "output_type": "execute_result"
    }
   ],
   "source": [
    "def dfun(t, drV, rbuf, rV, cr, k):\n",
    "    lib.delays(512, nv, nh_r, t, cr, rbuf, W.data, iL, W.indices, W.indptr)\n",
    "    Delta = 2.0\n",
    "    tau = 1.0\n",
    "    J = 15.0\n",
    "    I = 1.0\n",
    "    eta = -5.0\n",
    "    r, V = rV\n",
    "    drV[0] = Delta / (pi * tau) + 2*V*r\n",
    "    drV[1] = V*V - pi*pi * tau*tau * r*r + eta + J * tau * r + I + k*cr\n",
    "    return drV\n",
    "\n",
    "V = np.zeros_like(rbuf[t]) - 2.0\n",
    "drV = np.zeros((2,nv,num_sims), 'f')\n",
    "dfun(t, drV, rbuf, np.array([rbuf[t], V]), cr, 1e-3).shape"
   ]
  },
  {
   "cell_type": "code",
   "execution_count": 17,
   "id": "6b2c5e12",
   "metadata": {},
   "outputs": [],
   "source": [
    "def rgt0(r):\n",
    "    r[r<0] = 0\n",
    "\n",
    "def step(t, d1, d2, rbuf, rV, cr, dt, *args):\n",
    "    dfun(t, d1, rbuf, rV, cr, *args)\n",
    "    rVi = rV + dt*d1\n",
    "    rgt0(rVi[0])\n",
    "    dfun(t, d2, rbuf, rVi, cr, *args)\n",
    "    rV += dt/2*(d1 + d2)\n",
    "    rgt0(rV[0])\n",
    "    rbuf[t%nh_r] = rV[0]"
   ]
  },
  {
   "cell_type": "code",
   "execution_count": 18,
   "id": "4f2e86b4",
   "metadata": {},
   "outputs": [],
   "source": [
    "d1, d2 = np.zeros((2, 2, nv, num_sims), 'f')\n",
    "dt = 0.1\n",
    "rV = np.array([rbuf[t], V])\n",
    "step(3, d1, d2, rbuf, rV, cr, dt, 1e-4)"
   ]
  },
  {
   "cell_type": "code",
   "execution_count": 20,
   "id": "b3643106",
   "metadata": {},
   "outputs": [
    {
     "name": "stderr",
     "output_type": "stream",
     "text": [
      "100%|█████████████████████████████████████████████████████████████████████████████████████████████████████████████████| 256/256 [00:00<00:00, 556.01it/s]\n"
     ]
    },
    {
     "data": {
      "image/png": "[encoded data removed]",
      "text/plain": [
       "<Figure size 600x200 with 1 Axes>"
      ]
     },
     "metadata": {},
     "output_type": "display_data"
    }
   ],
   "source": [
    "rs = []\n",
    "rbuf = np.random.randn(nh_r, nv, num_sims).astype('f')/100 + 0.1\n",
    "rV = np.zeros((2, nv, num_sims), 'f')\n",
    "rV[0] = np.random.randn(nv, num_sims)/100 + 0.1\n",
    "rV[1] -= 2.0\n",
    "k = 1e-3\n",
    "for i in tqdm.trange(256):\n",
    "    step(i, d1, d2, rbuf, rV, cr, dt, k)\n",
    "    rs.append(rV[0].copy())\n",
    "rs = np.array(rs)[:,:,0]\n",
    "\n",
    "figure(figsize=(6,2)); plot(rs[:, :10]); grid(1);"
   ]
  },
  {
   "cell_type": "markdown",
   "id": "5d11fb59",
   "metadata": {},
   "source": [
    "this stil has some overhead from numpy operations.  we can fold those into the kernel in a single loop over nodes for the Heun step because of the delays. \n",
    "\n",
    "we also create a custom struct to hold all the simulation configuration since the list of arguments to the kernels becomes error prone,"
   ]
  },
  {
   "cell_type": "code",
   "execution_count": 39,
   "id": "0e0f8fd9",
   "metadata": {},
   "outputs": [
    {
     "name": "stdout",
     "output_type": "stream",
     "text": [
      "Overwriting delays3.ispc\n"
     ]
    }
   ],
   "source": [
    "%%file delays3.ispc\n",
    "\n",
    "struct sim {\n",
    "    const int chunksize;\n",
    "    const int nvtx;\n",
    "    const int nh;\n",
    "    int t;\n",
    "    \n",
    "    float *buf;\n",
    "    float *V;\n",
    "    const float *weights;\n",
    "    const int *idelays;\n",
    "    const int *indices;\n",
    "    const int *indptr;\n",
    "    \n",
    "    const float dt;\n",
    "    const float Delta;\n",
    "    const float pi;\n",
    "    const float tau;\n",
    "    const float J;\n",
    "    const float eta;\n",
    "    const float I;\n",
    "    const float k;\n",
    "};\n",
    "\n",
    "\n",
    "float get_aff_ij(const uniform struct sim &s, const uniform int t, const varying int j) {\n",
    "    const varying int dij = (s.nh + t - s.idelays[j]) & (s.nh-1);\n",
    "    return s.weights[j] * s.buf[dij*s.nvtx + s.indices[j]];\n",
    "}\n",
    "\n",
    "task void delays_task(const uniform int start, const uniform int chunksize,\n",
    "                      const uniform struct sim &s)\n",
    "{\n",
    "    // loop over nodes\n",
    "    for (uniform int i=start; i<(start + chunksize); i++)\n",
    "    {\n",
    "        // SIMD the sparse coupling terms\n",
    "        // we can issue both at once due to delays\n",
    "        varying float acc1 = 0;\n",
    "        varying float acc2 = 0;\n",
    "        foreach (j = s.indptr[i] ... s.indptr[i+1]) {\n",
    "            acc1 += get_aff_ij(s, s.t, j);\n",
    "            acc2 += get_aff_ij(s, s.t+1, j);\n",
    "        }\n",
    "        uniform float cr1 = reduce_add(acc1);\n",
    "        uniform float cr2 = reduce_add(acc2);\n",
    "        \n",
    "        // rest is not SIMD but hardly matters for performance\n",
    "        uniform float r = s.buf[((s.t) & (s.nh - 1))*s.nvtx + i];\n",
    "        uniform float V = s.V[i];\n",
    "        \n",
    "        // Heun predictor\n",
    "        uniform float dr1 = s.Delta / (s.pi * s.tau) + 2*V*r;\n",
    "        uniform float dV1 = V*V - s.pi*s.pi * s.tau*s.tau * r*r + s.eta + s.J * s.tau * r + s.I + s.k*cr1;\n",
    "        uniform float ri = r + s.dt*dr1;\n",
    "        ri = ri>0 ? ri : 0;\n",
    "        uniform float Vi = V + s.dt*dV1;\n",
    "        \n",
    "        // Heun corrector\n",
    "        uniform float dr2 = s.Delta / (s.pi * s.tau) + 2*Vi*ri;\n",
    "        uniform float dV2 = Vi*Vi - s.pi*s.pi * s.tau*s.tau * ri*ri + s.eta + s.J * s.tau * ri + s.I + s.k*cr2;\n",
    "        uniform float nr = r + s.dt*0.5*(dr1 + dr2);\n",
    "        uniform float nV = V + s.dt*0.5*(dV1 + dV2);\n",
    "        nr = nr>0 ? nr : 0;\n",
    "        \n",
    "        // update buffer\n",
    "        s.buf[((s.t + 1) & (s.nh - 1))*s.nvtx + i] = nr;\n",
    "        s.V[i] = nV;\n",
    "    }\n",
    "}\n",
    "\n",
    "// this function is called by Python and distributes vertices over CPUs\n",
    "export void delays(uniform struct sim &s)\n",
    "{\n",
    "    uniform int chunks = s.nvtx / s.chunksize;\n",
    "    for (uniform int start=0; start<chunks; start++)\n",
    "        launch delays_task(start*s.chunksize, s.chunksize, s);\n",
    "    launch delays_task(chunks*s.chunksize, s.nvtx-chunks*s.chunksize, s);\n",
    "    sync;\n",
    "}"
   ]
  },
  {
   "cell_type": "code",
   "execution_count": 40,
   "id": "dd1167ba",
   "metadata": {},
   "outputs": [
    {
     "name": "stderr",
     "output_type": "stream",
     "text": [
      "Warning: No --target specified on command-line. Using default system target \n",
      "        \"avx2-i32x8\". \n",
      "delays3.ispc:27:41: Performance Warning: Gather required to load value. \n",
      "    const varying int dij = (s.nh + t - s.idelays[j]) & (s.nh-1);\n",
      "                                        ^^^^^^^^^^^^\n",
      "\n",
      "delays3.ispc:28:12: Performance Warning: Gather required to load value. \n",
      "    return s.weights[j] * s.buf[dij*s.nvtx + s.indices[j]];\n",
      "           ^^^^^^^^^^^^\n",
      "\n",
      "delays3.ispc:28:46: Performance Warning: Gather required to load value. \n",
      "    return s.weights[j] * s.buf[dij*s.nvtx + s.indices[j]];\n",
      "                                             ^^^^^^^^^^^^\n",
      "\n",
      "delays3.ispc:28:27: Performance Warning: Gather required to load value. \n",
      "    return s.weights[j] * s.buf[dij*s.nvtx + s.indices[j]];\n",
      "                          ^^^^^^^^^^^^^^^^^^^^^^^^^^^^^^^^\n",
      "\n"
     ]
    }
   ],
   "source": [
    "import os, ctypes as ct, numpy as np, hashlib\n",
    "\n",
    "fvec = np.ctypeslib.ndpointer(dtype=np.float32)\n",
    "ivec = np.ctypeslib.ndpointer(dtype=np.int32)\n",
    "\n",
    "os.system('ispc -g delays3.ispc --pic -O3 -o delays3.ispc.o')\n",
    "\n",
    "with open('delays3.ispc', 'rb') as fd:\n",
    "    cc = hashlib.md5(fd.read()).hexdigest()[-4:]\n",
    "os.system(f'g++ -shared tasksys.o delays3.ispc.o -o delays{cc}.ispc.so -lpthread')\n",
    "lib2 = ct.CDLL(f'./delays{cc}.ispc.so')\n",
    "\n",
    "# this is the equivalent of the struct in the C code above\n",
    "class Sim(ct.Structure):\n",
    "    _fields_ = [\n",
    "        ('chunksize', ct.c_int), # const int \n",
    "        ('nvtx', ct.c_int), # const int \n",
    "        ('nh', ct.c_int), # const int \n",
    "        ('t', ct.c_int), # const int \n",
    "        ('buf', fvec), # float *\n",
    "        ('V', fvec), # float *\n",
    "        ('weights', fvec), # const float *\n",
    "        ('idelays', ivec), # const int *\n",
    "        ('indices', ivec), # const int *\n",
    "        ('indptr', ivec), # const int *\n",
    "        ('dt', ct.c_float), # const float \n",
    "        ('Delta', ct.c_float), # const float \n",
    "        ('pi', ct.c_float), # const float \n",
    "        ('tau', ct.c_float), # const float \n",
    "        ('J', ct.c_float), # const float \n",
    "        ('eta', ct.c_float), # const float \n",
    "        ('I', ct.c_float), # const float \n",
    "        ('k', ct.c_float), # const float \n",
    "    ]"
   ]
  },
  {
   "cell_type": "code",
   "execution_count": 48,
   "id": "3ff9876f",
   "metadata": {},
   "outputs": [],
   "source": [
    "s = Sim()\n",
    "s.chunksize = 64\n",
    "s.nvtx = nvtx\n",
    "s.nh = nh_r\n",
    "s.t = 12  # dummy value, will be set in loop\n",
    "s.buf = rbuf.ctypes.data\n",
    "s.V = V.ctypes.data\n",
    "s.weights = W.data.ctypes.data\n",
    "s.idelays = iL.ctypes.data\n",
    "s.indices = W.indices.ctypes.data\n",
    "s.indptr = W.indptr.ctypes.data\n",
    "s.dt = dt\n",
    "s.Delta = 2.0\n",
    "s.pi = np.pi\n",
    "s.tau = 1.0\n",
    "s.J = 15.0\n",
    "s.eta = -5.0\n",
    "s.I = 1.0\n",
    "s.k = 1e-3"
   ]
  },
  {
   "cell_type": "code",
   "execution_count": 49,
   "id": "071fdd39",
   "metadata": {},
   "outputs": [
    {
     "name": "stderr",
     "output_type": "stream",
     "text": [
      "100%|██████████████████████████████████████████████████████████████████████████████████████████████████████████████| 2048/2048 [00:02<00:00, 1010.87it/s]\n"
     ]
    },
    {
     "data": {
      "image/png": "[encoded data removed]",
      "text/plain": [
       "<Figure size 600x200 with 1 Axes>"
      ]
     },
     "metadata": {},
     "output_type": "display_data"
    }
   ],
   "source": [
    "rs2 = []\n",
    "np.random.seed(42)\n",
    "rbuf = np.random.randn(nh_r, nv).astype('f')/100 + 0.1\n",
    "rbuf[rbuf<0] = 0\n",
    "V = np.random.randn(nv).astype('f')/100 - 2.0\n",
    "\n",
    "s.buf = rbuf.ctypes.data\n",
    "s.V = V.ctypes.data\n",
    "s.k = 0.003\n",
    "s.dt = 0.1\n",
    "for i in tqdm.trange(2048):\n",
    "    s.t = i\n",
    "    lib2.delays(ct.byref(s))\n",
    "    rs2.append( rbuf[(i+1)&(s.nh-1)].copy() )\n",
    "rs2 = np.array(rs2)\n",
    "\n",
    "figure(figsize=(6, 2)); plot(rs2[:, :10] + np.r_[:10]*0.01); ylim([0, 2]); grid(1)"
   ]
  },
  {
   "cell_type": "markdown",
   "id": "c7f9b3b1",
   "metadata": {},
   "source": [
    "This is only about 2x faster, after folding the neural mass equations and Heun step into the C code.  It's also significantly more complicated to write.\n",
    "\n",
    "A few more experiments to consider\n",
    "\n",
    "- reorder the buffer?\n",
    "- run multiple simulations at once"
   ]
  },
  {
   "cell_type": "code",
   "execution_count": null,
   "id": "067c33c2",
   "metadata": {},
   "outputs": [],
   "source": [
    "\n",
    "\n",
    "\n",
    "\n",
    "\n",
    "\n",
    "\n",
    "\n",
    "\n",
    "\n",
    "\n",
    "\n",
    "\n",
    "\n",
    "\n",
    "\n",
    "\n",
    "\n",
    "\n",
    "\n",
    "\n",
    "\n",
    "\n",
    "\n",
    "\n",
    "\n",
    "\n",
    "\n",
    "\n",
    "\n"
   ]
  },
  {
   "cell_type": "code",
   "execution_count": null,
   "id": "528ae0d0",
   "metadata": {},
   "outputs": [],
   "source": []
  }
 ],
 "metadata": {
  "kernelspec": {
   "display_name": "Python 3 (ipykernel)",
   "language": "python",
   "name": "python3"
  },
  "language_info": {
   "codemirror_mode": {
    "name": "ipython",
    "version": 3
   },
   "file_extension": ".py",
   "mimetype": "text/x-python",
   "name": "python",
   "nbconvert_exporter": "python",
   "pygments_lexer": "ipython3",
   "version": "3.11.6"
  }
 },
 "nbformat": 4,
 "nbformat_minor": 5
}
